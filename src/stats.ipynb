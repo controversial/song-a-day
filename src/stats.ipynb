{
 "metadata": {
  "language_info": {
   "codemirror_mode": {
    "name": "ipython",
    "version": 3
   },
   "file_extension": ".py",
   "mimetype": "text/x-python",
   "name": "python",
   "nbconvert_exporter": "python",
   "pygments_lexer": "ipython3",
   "version": "3.8.4-final"
  },
  "orig_nbformat": 2,
  "kernelspec": {
   "name": "Python 3.8.4 64-bit",
   "display_name": "Python 3.8.4 64-bit",
   "metadata": {
    "interpreter": {
     "hash": "1ee38ef4a5a9feb55287fd749643f13d043cb0a7addaab2a9c224cbe137c0062"
    }
   }
  }
 },
 "nbformat": 4,
 "nbformat_minor": 2,
 "cells": [
  {
   "cell_type": "code",
   "execution_count": 6,
   "metadata": {
    "tags": []
   },
   "outputs": [],
   "source": [
    "# Get required info for token request\n",
    "import os\n",
    "from dotenv import load_dotenv\n",
    "load_dotenv()\n",
    "client_id = os.getenv(\"SPOTIFY_CLIENT_ID\")\n",
    "client_secret = os.getenv(\"SPOTIFY_CLIENT_SECRET\")\n",
    "token_url = \"https://accounts.spotify.com/api/token\"\n",
    "\n",
    "# Perform OAuth client credentials authorization\n",
    "import requests\n",
    "r = requests.post(\n",
    "    \"https://accounts.spotify.com/api/token\",\n",
    "    data={ \"grant_type\": \"client_credentials\" },\n",
    "    auth=(client_id, client_secret)\n",
    ")\n",
    "r.raise_for_status()\n",
    "response = r.json()\n",
    "token = response[\"access_token\"]"
   ]
  }
 ]
}