{
 "metadata": {
  "language_info": {
   "codemirror_mode": {
    "name": "ipython",
    "version": 3
   },
   "file_extension": ".py",
   "mimetype": "text/x-python",
   "name": "python",
   "nbconvert_exporter": "python",
   "pygments_lexer": "ipython3",
   "version": "3.8.4-final"
  },
  "orig_nbformat": 2,
  "kernelspec": {
   "name": "Python 3.8.4 64-bit",
   "display_name": "Python 3.8.4 64-bit",
   "metadata": {
    "interpreter": {
     "hash": "1ee38ef4a5a9feb55287fd749643f13d043cb0a7addaab2a9c224cbe137c0062"
    }
   }
  }
 },
 "nbformat": 4,
 "nbformat_minor": 2,
 "cells": [
  {
   "source": [
    "### Get Spotify credentials"
   ],
   "cell_type": "markdown",
   "metadata": {}
  },
  {
   "cell_type": "code",
   "execution_count": 13,
   "metadata": {
    "tags": []
   },
   "outputs": [],
   "source": [
    "# Get required info for token request\n",
    "import os\n",
    "from dotenv import load_dotenv\n",
    "load_dotenv()\n",
    "client_id = os.getenv(\"SPOTIFY_CLIENT_ID\")\n",
    "client_secret = os.getenv(\"SPOTIFY_CLIENT_SECRET\")\n",
    "token_url = \"https://accounts.spotify.com/api/token\"\n",
    "\n",
    "# Perform OAuth client credentials authorization\n",
    "import requests\n",
    "r = requests.post(\n",
    "    \"https://accounts.spotify.com/api/token\",\n",
    "    data={ \"grant_type\": \"client_credentials\" },\n",
    "    auth=(client_id, client_secret)\n",
    ")\n",
    "r.raise_for_status()\n",
    "response = r.json()\n",
    "token = response[\"access_token\"]\n",
    "headers = { \"Authorization\": f\"Bearer {token}\" }"
   ]
  },
  {
   "source": [
    "### Get Song a Day playlist data"
   ],
   "cell_type": "markdown",
   "metadata": {}
  },
  {
   "cell_type": "code",
   "execution_count": 18,
   "metadata": {
    "tags": []
   },
   "outputs": [],
   "source": [
    "playlists = { 2019: \"6xJjyO5AGrZkyGkWYXfUX8\", 2020: \"3iNn4yKx9PxpSVYfRXkK8i\" }\n",
    "years = sorted(playlists.keys())\n",
    "tracks = { year: [] for year in years }\n",
    "\n",
    "# For each year's playlist, grab tracks\n",
    "for year in years:\n",
    "    # Page through track list for the playlist\n",
    "    next_url = f\"https://api.spotify.com/v1/playlists/{playlists[year]}/tracks\"\n",
    "    while next_url:\n",
    "        # Fetch the current page\n",
    "        r = requests.get(next_url, headers=headers)\n",
    "        r.raise_for_status()\n",
    "        response = r.json()\n",
    "        # Reshape each playlist item and add to our \"tracks\" list for the relevant year\n",
    "        for playlist_item in response[\"items\"]:\n",
    "            tracks[year].append({\n",
    "                \"name\": playlist_item[\"track\"][\"name\"],\n",
    "                \"id\": playlist_item[\"track\"][\"id\"],\n",
    "                \"album_id\": playlist_item[\"track\"][\"album\"][\"id\"],\n",
    "                \"album_name\": playlist_item[\"track\"][\"album\"][\"name\"],\n",
    "                \"artists\": [\n",
    "                    { \"name\": artist[\"name\"], \"id\": artist[\"id\"] }\n",
    "                    for artist in playlist_item[\"track\"][\"artists\"]\n",
    "                ],\n",
    "                \"primary_artist_name\": playlist_item[\"track\"][\"artists\"][0][\"name\"],\n",
    "                \"primary_artist_id\": playlist_item[\"track\"][\"artists\"][0][\"id\"],\n",
    "                \"is_local\": playlist_item[\"is_local\"]\n",
    "            })\n",
    "        # Take note of the URL of the next page of playlist items\n",
    "        next_url = response[\"next\"]"
   ]
  }
 ]
}