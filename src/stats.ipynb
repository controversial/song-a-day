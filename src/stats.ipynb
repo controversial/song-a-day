{
 "metadata": {
  "language_info": {
   "codemirror_mode": {
    "name": "ipython",
    "version": 3
   },
   "file_extension": ".py",
   "mimetype": "text/x-python",
   "name": "python",
   "nbconvert_exporter": "python",
   "pygments_lexer": "ipython3",
   "version": "3.8.4-final"
  },
  "orig_nbformat": 2,
  "kernelspec": {
   "name": "Python 3.8.4 64-bit",
   "display_name": "Python 3.8.4 64-bit",
   "metadata": {
    "interpreter": {
     "hash": "1ee38ef4a5a9feb55287fd749643f13d043cb0a7addaab2a9c224cbe137c0062"
    }
   }
  }
 },
 "nbformat": 4,
 "nbformat_minor": 2,
 "cells": [
  {
   "source": [
    "### Get Spotify credentials"
   ],
   "cell_type": "markdown",
   "metadata": {}
  },
  {
   "cell_type": "code",
   "execution_count": 13,
   "metadata": {
    "tags": []
   },
   "outputs": [],
   "source": [
    "# Get required info for token request\n",
    "import os\n",
    "from dotenv import load_dotenv\n",
    "load_dotenv()\n",
    "client_id = os.getenv(\"SPOTIFY_CLIENT_ID\")\n",
    "client_secret = os.getenv(\"SPOTIFY_CLIENT_SECRET\")\n",
    "token_url = \"https://accounts.spotify.com/api/token\"\n",
    "\n",
    "# Perform OAuth client credentials authorization\n",
    "import requests\n",
    "r = requests.post(\n",
    "    \"https://accounts.spotify.com/api/token\",\n",
    "    data={ \"grant_type\": \"client_credentials\" },\n",
    "    auth=(client_id, client_secret)\n",
    ")\n",
    "r.raise_for_status()\n",
    "response = r.json()\n",
    "token = response[\"access_token\"]\n",
    "headers = { \"Authorization\": f\"Bearer {token}\" }"
   ]
  },
  {
   "source": [
    "### Get Song a Day playlist data"
   ],
   "cell_type": "markdown",
   "metadata": {}
  },
  {
   "cell_type": "code",
   "execution_count": 14,
   "metadata": {
    "tags": []
   },
   "outputs": [],
   "source": [
    "playlists = { 2019: \"6xJjyO5AGrZkyGkWYXfUX8\", 2020: \"3iNn4yKx9PxpSVYfRXkK8i\" }\n",
    "years = sorted(playlists.keys())\n",
    "tracks = { year: [] for year in years }\n",
    "\n",
    "# For each year's playlist, grab tracks\n",
    "for year in years:\n",
    "    # Page through track list for the playlist\n",
    "    next_url = f\"https://api.spotify.com/v1/playlists/{playlists[year]}/tracks\"\n",
    "    while next_url:\n",
    "        # Fetch the current page\n",
    "        r = requests.get(next_url, headers=headers)\n",
    "        r.raise_for_status()\n",
    "        response = r.json()\n",
    "        # Reshape each playlist item and add to our \"tracks\" list for the relevant year\n",
    "        for playlist_item in response[\"items\"]:\n",
    "            tracks[year].append({\n",
    "                \"name\": playlist_item[\"track\"][\"name\"],\n",
    "                \"id\": playlist_item[\"track\"][\"id\"],\n",
    "                \"album_id\": playlist_item[\"track\"][\"album\"][\"id\"],\n",
    "                \"album_name\": playlist_item[\"track\"][\"album\"][\"name\"],\n",
    "                \"album_images\": dict([\n",
    "                    ({640: \"large\", 300: \"medium\", 64: \"small\"}[i[\"width\"]], i[\"url\"])\n",
    "                    for i in playlist_item[\"track\"][\"album\"][\"images\"]\n",
    "                ]),\n",
    "                \"artists\": [\n",
    "                    { \"name\": artist[\"name\"], \"id\": artist[\"id\"] }\n",
    "                    for artist in playlist_item[\"track\"][\"artists\"]\n",
    "                ],\n",
    "                \"primary_artist_name\": playlist_item[\"track\"][\"artists\"][0][\"name\"],\n",
    "                \"primary_artist_id\": playlist_item[\"track\"][\"artists\"][0][\"id\"],\n",
    "                \"is_local\": playlist_item[\"is_local\"]\n",
    "            })\n",
    "        # Take note of the URL of the next page of playlist items\n",
    "        next_url = response[\"next\"]"
   ]
  },
  {
   "cell_type": "code",
   "execution_count": 15,
   "metadata": {
    "tags": []
   },
   "outputs": [
    {
     "output_type": "stream",
     "name": "stdout",
     "text": [
      "{'name': 'Northstar (feat. Vic Mensa & Maceo Haymes)', 'id': '2rQo6riaUQ9KRzDgPLqeWx', 'album_id': '1H2Y4lomFedlGP6yEd15cT', 'album_name': 'Opia', 'album_images': {'large': 'https://i.scdn.co/image/ab67616d0000b2732fe16c52fdb5c238f66586c1', 'medium': 'https://i.scdn.co/image/ab67616d00001e022fe16c52fdb5c238f66586c1', 'small': 'https://i.scdn.co/image/ab67616d000048512fe16c52fdb5c238f66586c1'}, 'artists': [{'name': 'Malcolm London', 'id': '1ikfT4dtC0eCVk4TZdfHGO'}], 'primary_artist_name': 'Malcolm London', 'primary_artist_id': '1ikfT4dtC0eCVk4TZdfHGO', 'is_local': False, 'date': datetime.datetime(2019, 12, 31, 0, 0)}\n"
     ]
    }
   ],
   "source": [
    "# Compile all tracks\n",
    "all_tracks = []\n",
    "# Assign a date to each track\n",
    "from datetime import datetime, timedelta\n",
    "for year in years:\n",
    "    curr_date = datetime(year, 1, 1)\n",
    "    for track in tracks[year]:\n",
    "        track[\"date\"] = curr_date\n",
    "        all_tracks.append(track) # add to big array\n",
    "        curr_date += timedelta(days=1)\n",
    "\n",
    "print(tracks[2019][-1])"
   ]
  },
  {
   "cell_type": "code",
   "execution_count": 16,
   "metadata": {},
   "outputs": [
    {
     "output_type": "execute_result",
     "data": {
      "text/plain": [
       "                   name                      id                album_id  \\\n",
       "0            So It Goes  0EA2RhRHL4KWeNa7JfD1Yw  5wtE5aLX5r7jOosmPhJhhk   \n",
       "1            Fertilizer  6jypaMkKsoc5npsVzxhksl  392p3shh2jkxUxY2VHvlH8   \n",
       "2          Brain Damage  05uGBKRCuePsf43Hfm0JwX  4LH4d3cOWNNsVw41Gqt2kv   \n",
       "3              Jet Fuel  2JmFRXaJrkAUD2cs6U20KG  5wtE5aLX5r7jOosmPhJhhk   \n",
       "4    Come Back to Earth  01z2fBGB8Hl3Jd3zXe4IXR  5wtE5aLX5r7jOosmPhJhhk   \n",
       "..                  ...                     ...                     ...   \n",
       "648                 Ivy  2ZWlPOoWh0626oTaHrnl2a  3mH6qwIy9crq0I9YQbOuDf   \n",
       "649           Everybody  1OuN92HcVG6NVpWbeESNB3  5sY6UIQ32GqwMLAfSNEaXb   \n",
       "650       100 Grandkids  4z0PnuB07fxtVZZRWsCfxb  2Tyx5dLhHYkx6zeAdVaTzN   \n",
       "651        Hold Me Down  1Mza2sr6tPhy6jjI3HB9fW  3xybjP7r2VsWzwvDQipdM0   \n",
       "652           Sometimes  4TQKvKtmAWsiOHGXSYkm7K  7fekFzT8lQv8sZjPGn7JqW   \n",
       "\n",
       "                    album_name  \\\n",
       "0                     Swimming   \n",
       "1               channel ORANGE   \n",
       "2    The Dark Side of the Moon   \n",
       "3                     Swimming   \n",
       "4                     Swimming   \n",
       "..                         ...   \n",
       "648                     Blonde   \n",
       "649                    Circles   \n",
       "650                   GO:OD AM   \n",
       "651                   Freudian   \n",
       "652                       1999   \n",
       "\n",
       "                                          album_images  \\\n",
       "0    {'large': 'https://i.scdn.co/image/ab67616d000...   \n",
       "1    {'large': 'https://i.scdn.co/image/ab67616d000...   \n",
       "2    {'large': 'https://i.scdn.co/image/ab67616d000...   \n",
       "3    {'large': 'https://i.scdn.co/image/ab67616d000...   \n",
       "4    {'large': 'https://i.scdn.co/image/ab67616d000...   \n",
       "..                                                 ...   \n",
       "648  {'large': 'https://i.scdn.co/image/ab67616d000...   \n",
       "649  {'large': 'https://i.scdn.co/image/ab67616d000...   \n",
       "650  {'large': 'https://i.scdn.co/image/ab67616d000...   \n",
       "651  {'large': 'https://i.scdn.co/image/ab67616d000...   \n",
       "652  {'large': 'https://i.scdn.co/image/ab67616d000...   \n",
       "\n",
       "                                               artists primary_artist_name  \\\n",
       "0    [{'name': 'Mac Miller', 'id': '4LLpKhyESsyAXpc...          Mac Miller   \n",
       "1    [{'name': 'Frank Ocean', 'id': '2h93pZq0e7k5yf...         Frank Ocean   \n",
       "2    [{'name': 'Pink Floyd', 'id': '0k17h0D3J5Vfsdm...          Pink Floyd   \n",
       "3    [{'name': 'Mac Miller', 'id': '4LLpKhyESsyAXpc...          Mac Miller   \n",
       "4    [{'name': 'Mac Miller', 'id': '4LLpKhyESsyAXpc...          Mac Miller   \n",
       "..                                                 ...                 ...   \n",
       "648  [{'name': 'Frank Ocean', 'id': '2h93pZq0e7k5yf...         Frank Ocean   \n",
       "649  [{'name': 'Mac Miller', 'id': '4LLpKhyESsyAXpc...          Mac Miller   \n",
       "650  [{'name': 'Mac Miller', 'id': '4LLpKhyESsyAXpc...          Mac Miller   \n",
       "651  [{'name': 'Daniel Caesar', 'id': '20wkVLutqVOY...       Daniel Caesar   \n",
       "652  [{'name': 'Rich Brian', 'id': '2IDLDx25HU1nQMK...          Rich Brian   \n",
       "\n",
       "          primary_artist_id  is_local       date  \n",
       "0    4LLpKhyESsyAXpc4laK94U     False 2019-01-01  \n",
       "1    2h93pZq0e7k5yf4dywlkpM     False 2019-01-02  \n",
       "2    0k17h0D3J5VfsdmQ1iZtE9     False 2019-01-03  \n",
       "3    4LLpKhyESsyAXpc4laK94U     False 2019-01-04  \n",
       "4    4LLpKhyESsyAXpc4laK94U     False 2019-01-05  \n",
       "..                      ...       ...        ...  \n",
       "648  2h93pZq0e7k5yf4dywlkpM     False 2020-10-10  \n",
       "649  4LLpKhyESsyAXpc4laK94U     False 2020-10-11  \n",
       "650  4LLpKhyESsyAXpc4laK94U     False 2020-10-12  \n",
       "651  20wkVLutqVOYrc0kxFs7rA     False 2020-10-13  \n",
       "652  2IDLDx25HU1nQMKde4n61a     False 2020-10-14  \n",
       "\n",
       "[653 rows x 10 columns]"
      ],
      "text/html": "<div>\n<style scoped>\n    .dataframe tbody tr th:only-of-type {\n        vertical-align: middle;\n    }\n\n    .dataframe tbody tr th {\n        vertical-align: top;\n    }\n\n    .dataframe thead th {\n        text-align: right;\n    }\n</style>\n<table border=\"1\" class=\"dataframe\">\n  <thead>\n    <tr style=\"text-align: right;\">\n      <th></th>\n      <th>name</th>\n      <th>id</th>\n      <th>album_id</th>\n      <th>album_name</th>\n      <th>album_images</th>\n      <th>artists</th>\n      <th>primary_artist_name</th>\n      <th>primary_artist_id</th>\n      <th>is_local</th>\n      <th>date</th>\n    </tr>\n  </thead>\n  <tbody>\n    <tr>\n      <th>0</th>\n      <td>So It Goes</td>\n      <td>0EA2RhRHL4KWeNa7JfD1Yw</td>\n      <td>5wtE5aLX5r7jOosmPhJhhk</td>\n      <td>Swimming</td>\n      <td>{'large': 'https://i.scdn.co/image/ab67616d000...</td>\n      <td>[{'name': 'Mac Miller', 'id': '4LLpKhyESsyAXpc...</td>\n      <td>Mac Miller</td>\n      <td>4LLpKhyESsyAXpc4laK94U</td>\n      <td>False</td>\n      <td>2019-01-01</td>\n    </tr>\n    <tr>\n      <th>1</th>\n      <td>Fertilizer</td>\n      <td>6jypaMkKsoc5npsVzxhksl</td>\n      <td>392p3shh2jkxUxY2VHvlH8</td>\n      <td>channel ORANGE</td>\n      <td>{'large': 'https://i.scdn.co/image/ab67616d000...</td>\n      <td>[{'name': 'Frank Ocean', 'id': '2h93pZq0e7k5yf...</td>\n      <td>Frank Ocean</td>\n      <td>2h93pZq0e7k5yf4dywlkpM</td>\n      <td>False</td>\n      <td>2019-01-02</td>\n    </tr>\n    <tr>\n      <th>2</th>\n      <td>Brain Damage</td>\n      <td>05uGBKRCuePsf43Hfm0JwX</td>\n      <td>4LH4d3cOWNNsVw41Gqt2kv</td>\n      <td>The Dark Side of the Moon</td>\n      <td>{'large': 'https://i.scdn.co/image/ab67616d000...</td>\n      <td>[{'name': 'Pink Floyd', 'id': '0k17h0D3J5Vfsdm...</td>\n      <td>Pink Floyd</td>\n      <td>0k17h0D3J5VfsdmQ1iZtE9</td>\n      <td>False</td>\n      <td>2019-01-03</td>\n    </tr>\n    <tr>\n      <th>3</th>\n      <td>Jet Fuel</td>\n      <td>2JmFRXaJrkAUD2cs6U20KG</td>\n      <td>5wtE5aLX5r7jOosmPhJhhk</td>\n      <td>Swimming</td>\n      <td>{'large': 'https://i.scdn.co/image/ab67616d000...</td>\n      <td>[{'name': 'Mac Miller', 'id': '4LLpKhyESsyAXpc...</td>\n      <td>Mac Miller</td>\n      <td>4LLpKhyESsyAXpc4laK94U</td>\n      <td>False</td>\n      <td>2019-01-04</td>\n    </tr>\n    <tr>\n      <th>4</th>\n      <td>Come Back to Earth</td>\n      <td>01z2fBGB8Hl3Jd3zXe4IXR</td>\n      <td>5wtE5aLX5r7jOosmPhJhhk</td>\n      <td>Swimming</td>\n      <td>{'large': 'https://i.scdn.co/image/ab67616d000...</td>\n      <td>[{'name': 'Mac Miller', 'id': '4LLpKhyESsyAXpc...</td>\n      <td>Mac Miller</td>\n      <td>4LLpKhyESsyAXpc4laK94U</td>\n      <td>False</td>\n      <td>2019-01-05</td>\n    </tr>\n    <tr>\n      <th>...</th>\n      <td>...</td>\n      <td>...</td>\n      <td>...</td>\n      <td>...</td>\n      <td>...</td>\n      <td>...</td>\n      <td>...</td>\n      <td>...</td>\n      <td>...</td>\n      <td>...</td>\n    </tr>\n    <tr>\n      <th>648</th>\n      <td>Ivy</td>\n      <td>2ZWlPOoWh0626oTaHrnl2a</td>\n      <td>3mH6qwIy9crq0I9YQbOuDf</td>\n      <td>Blonde</td>\n      <td>{'large': 'https://i.scdn.co/image/ab67616d000...</td>\n      <td>[{'name': 'Frank Ocean', 'id': '2h93pZq0e7k5yf...</td>\n      <td>Frank Ocean</td>\n      <td>2h93pZq0e7k5yf4dywlkpM</td>\n      <td>False</td>\n      <td>2020-10-10</td>\n    </tr>\n    <tr>\n      <th>649</th>\n      <td>Everybody</td>\n      <td>1OuN92HcVG6NVpWbeESNB3</td>\n      <td>5sY6UIQ32GqwMLAfSNEaXb</td>\n      <td>Circles</td>\n      <td>{'large': 'https://i.scdn.co/image/ab67616d000...</td>\n      <td>[{'name': 'Mac Miller', 'id': '4LLpKhyESsyAXpc...</td>\n      <td>Mac Miller</td>\n      <td>4LLpKhyESsyAXpc4laK94U</td>\n      <td>False</td>\n      <td>2020-10-11</td>\n    </tr>\n    <tr>\n      <th>650</th>\n      <td>100 Grandkids</td>\n      <td>4z0PnuB07fxtVZZRWsCfxb</td>\n      <td>2Tyx5dLhHYkx6zeAdVaTzN</td>\n      <td>GO:OD AM</td>\n      <td>{'large': 'https://i.scdn.co/image/ab67616d000...</td>\n      <td>[{'name': 'Mac Miller', 'id': '4LLpKhyESsyAXpc...</td>\n      <td>Mac Miller</td>\n      <td>4LLpKhyESsyAXpc4laK94U</td>\n      <td>False</td>\n      <td>2020-10-12</td>\n    </tr>\n    <tr>\n      <th>651</th>\n      <td>Hold Me Down</td>\n      <td>1Mza2sr6tPhy6jjI3HB9fW</td>\n      <td>3xybjP7r2VsWzwvDQipdM0</td>\n      <td>Freudian</td>\n      <td>{'large': 'https://i.scdn.co/image/ab67616d000...</td>\n      <td>[{'name': 'Daniel Caesar', 'id': '20wkVLutqVOY...</td>\n      <td>Daniel Caesar</td>\n      <td>20wkVLutqVOYrc0kxFs7rA</td>\n      <td>False</td>\n      <td>2020-10-13</td>\n    </tr>\n    <tr>\n      <th>652</th>\n      <td>Sometimes</td>\n      <td>4TQKvKtmAWsiOHGXSYkm7K</td>\n      <td>7fekFzT8lQv8sZjPGn7JqW</td>\n      <td>1999</td>\n      <td>{'large': 'https://i.scdn.co/image/ab67616d000...</td>\n      <td>[{'name': 'Rich Brian', 'id': '2IDLDx25HU1nQMK...</td>\n      <td>Rich Brian</td>\n      <td>2IDLDx25HU1nQMKde4n61a</td>\n      <td>False</td>\n      <td>2020-10-14</td>\n    </tr>\n  </tbody>\n</table>\n<p>653 rows × 10 columns</p>\n</div>"
     },
     "metadata": {},
     "execution_count": 16
    }
   ],
   "source": [
    "import pandas as pd\n",
    "\n",
    "df = pd.DataFrame(all_tracks)\n",
    "df"
   ]
  }
 ]
}